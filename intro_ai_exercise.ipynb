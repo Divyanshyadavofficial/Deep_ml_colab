{
 "cells": [
  {
   "cell_type": "code",
   "execution_count": 1,
   "metadata": {},
   "outputs": [],
   "source": [
    "# import numpy as np\n",
    "# X = np.array([[0,0],[0,1],[1,0],[1,1]])\n",
    "# y = np.array([[0],[1],[1],[0]])"
   ]
  },
  {
   "cell_type": "code",
   "execution_count": 2,
   "metadata": {},
   "outputs": [],
   "source": [
    "# def sigmoid(x):\n",
    "#     return 1/(1+np.exp(-x))\n",
    "\n",
    "# def sigmoid_derivative(x):\n",
    "#     return x*(1-x)"
   ]
  },
  {
   "cell_type": "code",
   "execution_count": 3,
   "metadata": {},
   "outputs": [],
   "source": [
    "# np.random.seed(42)\n",
    "\n",
    "# input_size = 2\n",
    "# hidden_size = 2\n",
    "# output_size = 1\n",
    "# learning_rate = 0.1\n",
    "\n",
    "\n",
    "# W1 = np.random.randn(input_size,hidden_size)\n",
    "# b1 = np.zeros((1,hidden_size))\n",
    "# W2 = np.random.randn(hidden_size,output_size)\n",
    "# b2 = np.zeros((1,output_size))"
   ]
  },
  {
   "cell_type": "code",
   "execution_count": 4,
   "metadata": {},
   "outputs": [],
   "source": [
    "# epochs = 1000\n",
    "# for epoch in range(epochs):\n",
    "#     # forward pass\n",
    "#     z1 = np.dot(X,W1)+b1\n",
    "#     a1 = sigmoid(z1)\n",
    "\n",
    "#     z2 = np.dot(a1,W2) +b2\n",
    "#     a2 = sigmoid(z2)\n",
    "\n",
    "#     #backward pass \n",
    "#     error = y - a2\n",
    "#     d_output = error* sigmoid_derivative(a2)\n",
    "\n",
    "#     error_hidden = np.dot(d_output,W2.T)\n",
    "#     d_hidden = error_hidden * sigmoid_derivative(a1)\n",
    "\n",
    "#     # Weight update\n",
    "\n",
    "#     W2+=np.dot(a1.T,d_output)*learning_rate\n",
    "#     b2+= np.sum(d_output,axis=0,keepdims=True)*learning_rate\n",
    "\n",
    "#     W1+= np.dot(X.T,d_hidden)* learning_rate\n",
    "#     b1+= np.sum(d_hidden,axis=0,keepdims=True)*learning_rate\n",
    "\n",
    "#     if epoch % 100 == 0:\n",
    "#         loss = np.mean(np.square(error))\n",
    "#         print(f\"Epoch {epoch}, Loss: {loss:.4f}\")"
   ]
  },
  {
   "cell_type": "code",
   "execution_count": 5,
   "metadata": {},
   "outputs": [],
   "source": [
    "# def predict(x):\n",
    "#     hidden = sigmoid(np.dot(x, W1) + b1)\n",
    "#     output = sigmoid(np.dot(hidden, W2) + b2)\n",
    "#     return output\n",
    "\n",
    "# print(\"Predictions:\")\n",
    "# print(predict(X))\n"
   ]
  },
  {
   "cell_type": "markdown",
   "metadata": {},
   "source": [
    "Draw an ANN using the original artificial neurons (like the ones in Figure 10-3)\n",
    "that computes A ⊕ B (where ⊕ represents the XOR operation). Hint: A ⊕ B = (A ∧ ¬ B ∨ (¬ A ∧ B))."
   ]
  },
  {
   "cell_type": "markdown",
   "metadata": {},
   "source": [
    "We’ll construct an ANN with 3 layers (Input, Hidden, Output):\n",
    "\n",
    "1. Inputs\n",
    "\n",
    "A\n",
    "B\n",
    "2. Hidden Layer (2 neurons)\n",
    "\n",
    "Neuron H1: Computes \n",
    "A\n",
    "∧\n",
    "¬\n",
    "B\n",
    "A∧¬B\n",
    "Neuron H2: Computes \n",
    "¬\n",
    "A\n",
    "∧\n",
    "B\n",
    "¬A∧B\n",
    "3. Output Layer\n",
    "\n",
    "Neuron O: Computes \n",
    "H\n",
    "1\n",
    "∨\n",
    "H\n",
    "2\n"
   ]
  },
  {
   "cell_type": "markdown",
   "metadata": {},
   "source": [
    "| A | B | Weighted Sum = A - B | Fires if sum ≥ 1 |\n",
    "| - | - | -------------------- | ---------------- |\n",
    "| 1 | 0 | 1                    | Yes (1)          |\n",
    "| 1 | 1 | 0                    | No (0)           |\n",
    "| 0 | 1 | -1                   | No (0)           |\n",
    "| 0 | 0 | 0                    | No (0)           |\n"
   ]
  },
  {
   "cell_type": "markdown",
   "metadata": {},
   "source": [
    "| A | B | Weighted Sum = -A + B | Fires if sum ≥ 1 |\n",
    "| - | - | --------------------- | ---------------- |\n",
    "| 0 | 1 | 1                     | Yes (1)          |\n",
    "| 1 | 1 | 0                     | No (0)           |\n",
    "| 1 | 0 | -1                    | No (0)           |\n",
    "| 0 | 0 | 0                     | No (0)           |\n"
   ]
  },
  {
   "cell_type": "markdown",
   "metadata": {},
   "source": [
    "| H1 | H2 | Sum | Fires |\n",
    "| -- | -- | --- | ----- |\n",
    "| 0  | 0  | 0   | 0     |\n",
    "| 1  | 0  | 1   | 1     |\n",
    "| 0  | 1  | 1   | 1     |\n",
    "| 1  | 1  | 2   | 1     |\n"
   ]
  },
  {
   "cell_type": "markdown",
   "metadata": {},
   "source": [
    "| A | B | Output (A ⊕ B) |\n",
    "| - | - | -------------- |\n",
    "| 0 | 0 | 0              |\n",
    "| 0 | 1 | 1              |\n",
    "| 1 | 0 | 1              |\n",
    "| 1 | 1 | 0              |\n"
   ]
  },
  {
   "cell_type": "markdown",
   "metadata": {},
   "source": [
    "Why is it generally preferable to use a Logistic Regression classifier rather than a\n",
    "classical Perceptron (i.e., a single layer of threshold logic units trained using the\n",
    "Perceptron training algorithm)? How can you tweak a Perceptron to make it\n",
    "equivalent to a Logistic Regression classifier?"
   ]
  },
  {
   "cell_type": "markdown",
   "metadata": {},
   "source": [
    "| Feature                               | Perceptron                       | Logistic Regression               |\n",
    "| ------------------------------------- | -------------------------------- | --------------------------------- |\n",
    "| **Output**                            | 0 or 1 (hard classification)     | Probability between 0 and 1       |\n",
    "| **Loss Function**                     | No loss function (uses mistakes) | Cross-entropy (log loss)          |\n",
    "| **Convergence on Non-separable Data** | Does **not** converge            | Still converges                   |\n",
    "| **Gradient-based Optimization**       | No (discrete updates)            | Yes (smooth updates via gradient) |\n",
    "| **Probabilistic Output**              | No                               | Yes                               |\n",
    "| **Robustness**                        | Sensitive to noise               | More robust to outliers           |\n"
   ]
  },
  {
   "cell_type": "markdown",
   "metadata": {},
   "source": [
    "To convert a classical perceptron into something equivalent to logistic regression, you can make two changes\n",
    "\n",
    "1. Replace the Step Function with a  Sigmoid Activation function\n",
    "2. Train using Gradient Descent and cross entropy loss "
   ]
  },
  {
   "cell_type": "markdown",
   "metadata": {},
   "source": [
    " Why was the logistic activation function a key ingredient in training the first\n",
    "MLPs?"
   ]
  },
  {
   "cell_type": "markdown",
   "metadata": {},
   "source": [
    "Because the logistic function is differentiable everywhere and its derivative is simple.\n",
    "2. The logistic function introduces non linearity, allowing mlps to learn complex, non linear boundaries\n",
    "3. the sigmoid output represents a probablity which makes it ideal for binary classification and output layers of classifiers\n",
    " "
   ]
  },
  {
   "cell_type": "markdown",
   "metadata": {},
   "source": [
    "Name three popular activation functions. Can you draw them?\n",
    "\n",
    "1. Sigmoid.\n",
    "2. Tanh.\n",
    "3. Relu\n"
   ]
  },
  {
   "cell_type": "code",
   "execution_count": 6,
   "metadata": {},
   "outputs": [
    {
     "data": {
      "image/png": "[encoded data removed]",
      "text/plain": [
       "<Figure size 1000x600 with 1 Axes>"
      ]
     },
     "metadata": {},
     "output_type": "display_data"
    }
   ],
   "source": [
    "import numpy as np\n",
    "import matplotlib.pyplot as plt\n",
    "\n",
    "\n",
    "x = np.linspace(-10, 10, 400)\n",
    "\n",
    "sigmoid = 1 / (1 + np.exp(-x))     # Sigmoid\n",
    "tanh = np.tanh(x)                  # Tanh\n",
    "relu = np.maximum(0, x)           # ReLU\n",
    "\n",
    "plt.figure(figsize=(10, 6))\n",
    "\n",
    "plt.plot(x, sigmoid, label='Sigmoid', color='blue')\n",
    "plt.plot(x, tanh, label='Tanh', color='green')\n",
    "plt.plot(x, relu, label='ReLU', color='red')\n",
    "\n",
    "\n",
    "plt.title('Popular Activation Functions')\n",
    "plt.xlabel('Input')\n",
    "plt.ylabel('Output')\n",
    "plt.axhline(0, color='black', linewidth=0.5)\n",
    "plt.axvline(0, color='black', linewidth=0.5)\n",
    "plt.grid(True)\n",
    "plt.legend()\n",
    "plt.tight_layout()\n",
    "plt.show()\n"
   ]
  },
  {
   "cell_type": "markdown",
   "metadata": {},
   "source": [
    "Suppose you have an MLP composed of one input layer with 10 passthrough\n",
    "neurons, followed by one hidden layer with 50 artificial neurons, and finally one\n",
    "output layer with 3 artificial neurons. All artificial neurons use the ReLU activa‐\n",
    "tion function.\n",
    "• What is the shape of the input matrix X?\n",
    "• What are the shapes of the hidden layer’s weight vector Wh and its bias vector\n",
    "bh?\n",
    "• What are the shapes of the output layer’s weight vector Wo and its bias vector\n",
    "bo?\n",
    "• What is the shape of the network’s output matrix Y?\n",
    "• Write the equation that computes the network’s output matrix Y as a function\n",
    "of X, Wh, bh, Wo, and bo."
   ]
  },
  {
   "cell_type": "markdown",
   "metadata": {},
   "source": [
    " Network Architecture Overview.\n",
    "1. Input layer: 10 passthrough neurons → just inputs (no weights here).\n",
    "2. Hidden layer: 50 ReLU-activated neurons.\n",
    "3. Output layer: 3 ReLU-activated neurons.\n",
    "We’ll assume a batch size of m (i.e., the network processes m input samples at once)."
   ]
  },
  {
   "cell_type": "markdown",
   "metadata": {},
   "source": [
    "Each input sample has 10 features.\n",
    "\n",
    "For m samples:\n",
    "X\n",
    "∈\n",
    "R\n",
    "m\n",
    "×\n",
    "10\n",
    "X∈R \n",
    "m×10\n",
    " \n",
    "​\t\n",
    " "
   ]
  },
  {
   "cell_type": "markdown",
   "metadata": {},
   "source": [
    "The hidden layer:\n",
    "\n",
    "Takes input of size 10\n",
    "Has 50 neurons\n",
    "So:\n",
    "\n",
    "Wh connects 10 → 50 neurons:\n",
    "W\n",
    "h\n",
    "∈\n",
    "R\n",
    "10\n",
    "×\n",
    "50\n",
    "W \n",
    "h\n",
    "​\t\n",
    " ∈R \n",
    "10×50\n",
    " \n",
    "​\t\n",
    " \n",
    "bh adds bias to each of the 50 neurons:\n",
    "b\n",
    "h\n",
    "∈\n",
    "R\n",
    "1\n",
    "×\n",
    "50\n",
    "b \n",
    "h\n",
    "​\t\n",
    " ∈R \n",
    "1×50\n",
    " \n",
    "​\t\n",
    " "
   ]
  },
  {
   "cell_type": "markdown",
   "metadata": {},
   "source": [
    "The output layer:\n",
    "\n",
    "Takes input of size 50 (from hidden layer)\n",
    "Has 3 neurons\n",
    "So:\n",
    "\n",
    "Wo connects 50 → 3:\n",
    "W\n",
    "o\n",
    "∈\n",
    "R\n",
    "50\n",
    "×\n",
    "3\n",
    "W \n",
    "o\n",
    "​\t\n",
    " ∈R \n",
    "50×3\n",
    " \n",
    "​\t\n",
    " \n",
    "bo adds bias to each of the 3 output neurons:\n",
    "b\n",
    "o\n",
    "∈\n",
    "R\n",
    "1\n",
    "×\n",
    "3\n",
    "b \n",
    "o\n",
    "​\t\n",
    " ∈R \n",
    "1×3\n",
    " \n"
   ]
  },
  {
   "cell_type": "markdown",
   "metadata": {},
   "source": [
    "Each of the m inputs produces an output vector of length 3.\n",
    "\n",
    "Y\n",
    "∈\n",
    "R\n",
    "m\n",
    "×\n",
    "3\n",
    "Y∈R \n",
    "m×3\n",
    " \n",
    "​\t\n",
    " \n"
   ]
  },
  {
   "cell_type": "markdown",
   "metadata": {},
   "source": [
    " \n",
    "Y=ReLU(ReLU(XW \n",
    "h\n",
    "​\t\n",
    " +b \n",
    "h\n",
    "​\t\n",
    " )W \n",
    "o\n",
    "​\t\n",
    " +b \n",
    "o\n",
    "​\t\n",
    " )\n",
    "​\t\n",
    " \n"
   ]
  },
  {
   "cell_type": "markdown",
   "metadata": {},
   "source": [
    " How many neurons do you need in the output layer if you want to classify email\n",
    "into spam or ham? What activation function should you use in the output layer?\n",
    "If instead you want to tackle MNIST, how many neurons do you need in the out‐\n",
    "put layer, and which activation function should you use? What about for getting\n",
    "your network to predict housing prices, as in Chapter 2?"
   ]
  },
  {
   "cell_type": "markdown",
   "metadata": {},
   "source": [
    "| Task                       | Output Neurons | Activation Function | Reason                               |\n",
    "| -------------------------- | -------------- | ------------------- | ------------------------------------ |\n",
    "| Email Spam Detection       | 1              | Sigmoid             | Binary probability (spam or not)     |\n",
    "| MNIST Digit Classification | 10             | Softmax             | Multi-class probability distribution |\n",
    "| Housing Price Prediction   | 1              | None / Linear       | Continuous value prediction          |\n"
   ]
  },
  {
   "cell_type": "markdown",
   "metadata": {},
   "source": [
    " Can you list all the hyperparameters you can tweak in a basic MLP? If the MLP\n",
    "overfits the training data, how could you tweak these hyperparameters to try to\n",
    "solve the problem?"
   ]
  },
  {
   "cell_type": "markdown",
   "metadata": {},
   "source": [
    "| Category           | Hyperparameter                  | Description                                          |\n",
    "| ------------------ | ------------------------------- | ---------------------------------------------------- |\n",
    "| **Architecture**   | Number of hidden layers         | Depth of the network                                 |\n",
    "|                    | Number of neurons per layer     | Width of each layer                                  |\n",
    "| **Training**       | Learning rate                   | Step size for weight updates                         |\n",
    "|                    | Batch size                      | Number of samples per gradient update                |\n",
    "|                    | Number of epochs                | Total passes over the training data                  |\n",
    "| **Optimization**   | Optimizer                       | E.g., SGD, Adam, RMSProp                             |\n",
    "| **Initialization** | Weight initialization method    | E.g., He, Xavier, random normal                      |\n",
    "| **Activation**     | Activation function             | E.g., ReLU, Tanh, Sigmoid                            |\n",
    "| **Regularization** | L1/L2 weight regularization (λ) | Penalize large weights                               |\n",
    "|                    | Dropout rate                    | Fraction of neurons randomly dropped during training |\n",
    "|                    | Early stopping                  | Stop training when validation error increases        |\n",
    "| **Data**           | Input normalization             | Feature scaling (e.g., StandardScaler)               |\n",
    "|                    | Data augmentation               | (for image/text tasks) — apply transformations       |\n"
   ]
  },
  {
   "cell_type": "markdown",
   "metadata": {},
   "source": [
    "| Strategy                       | How to Tweak                                | Why                              |\n",
    "| ------------------------------ | ------------------------------------------- | -------------------------------- |\n",
    "| **Reduce model capacity**      | Decrease number of layers or neurons        | Prevents memorization            |\n",
    "| **Add regularization**         | Increase L2 (or L1) penalty                 | Shrinks weights                  |\n",
    "| **Use dropout**                | Add dropout layers or increase dropout rate | Prevents co-adaptation           |\n",
    "| **Use early stopping**         | Monitor validation loss and stop early      | Prevents over-training           |\n",
    "| **Reduce learning rate**       | Slightly lower it (e.g., 0.001 → 0.0005)    | May stabilize updates            |\n",
    "| **Use batch normalization**    | Add after dense layers                      | Reduces internal covariate shift |\n",
    "| **Augment data**               | Add noise, flip, scale, etc.                | Exposes model to more variations |\n",
    "| **Train longer with patience** | Combine with early stopping                 | Better generalization with time  |\n"
   ]
  },
  {
   "cell_type": "markdown",
   "metadata": {},
   "source": [
    "Train a deep MLP on the MNIST dataset (you can load it using keras.data\n",
    "sets.mnist.load_data(). See if you can get over 98% precision. Try searching\n",
    "for the optimal learning rate by using the approach presented in this chapter (i.e.,\n",
    "by growing the learning rate exponentially, plotting the loss, and finding the\n",
    "point where the loss shoots up). Try adding all the bells and whistles—save\n",
    "checkpoints, use early stopping, and plot learning curves using TensorBoard"
   ]
  },
  {
   "cell_type": "code",
   "execution_count": 7,
   "metadata": {},
   "outputs": [],
   "source": [
    "from tensorflow import keras\n",
    "(X_train_full, y_train_full), (X_test, y_test) = keras.datasets.mnist.load_data()\n"
   ]
  },
  {
   "cell_type": "code",
   "execution_count": 8,
   "metadata": {},
   "outputs": [
    {
     "data": {
      "text/plain": [
       "(60000, 28, 28)"
      ]
     },
     "execution_count": 8,
     "metadata": {},
     "output_type": "execute_result"
    }
   ],
   "source": [
    "X_train_full.shape"
   ]
  },
  {
   "cell_type": "code",
   "execution_count": 9,
   "metadata": {},
   "outputs": [
    {
     "data": {
      "text/plain": [
       "dtype('uint8')"
      ]
     },
     "execution_count": 9,
     "metadata": {},
     "output_type": "execute_result"
    }
   ],
   "source": [
    "X_train_full.dtype\n"
   ]
  },
  {
   "cell_type": "code",
   "execution_count": 10,
   "metadata": {},
   "outputs": [],
   "source": [
    "X_valid, X_train = X_train_full[:5000] / 255., X_train_full[5000:] / 255.\n",
    "y_valid, y_train = y_train_full[:5000], y_train_full[5000:]\n",
    "X_test = X_test / 255."
   ]
  },
  {
   "cell_type": "code",
   "execution_count": 11,
   "metadata": {},
   "outputs": [
    {
     "data": {
      "image/png": "[encoded data removed]",
      "text/plain": [
       "<Figure size 640x480 with 1 Axes>"
      ]
     },
     "metadata": {},
     "output_type": "display_data"
    }
   ],
   "source": [
    "plt.imshow(X_train[0], cmap=\"binary\")\n",
    "plt.axis('off')\n",
    "plt.show()"
   ]
  },
  {
   "cell_type": "code",
   "execution_count": 12,
   "metadata": {},
   "outputs": [
    {
     "data": {
      "text/plain": [
       "array([7, 3, 4, ..., 5, 6, 8], dtype=uint8)"
      ]
     },
     "execution_count": 12,
     "metadata": {},
     "output_type": "execute_result"
    }
   ],
   "source": [
    "y_train"
   ]
  },
  {
   "cell_type": "code",
   "execution_count": 13,
   "metadata": {},
   "outputs": [
    {
     "data": {
      "text/plain": [
       "(5000, 28, 28)"
      ]
     },
     "execution_count": 13,
     "metadata": {},
     "output_type": "execute_result"
    }
   ],
   "source": [
    "\n",
    "X_valid.shape"
   ]
  },
  {
   "cell_type": "code",
   "execution_count": 14,
   "metadata": {},
   "outputs": [
    {
     "data": {
      "text/plain": [
       "(10000, 28, 28)"
      ]
     },
     "execution_count": 14,
     "metadata": {},
     "output_type": "execute_result"
    }
   ],
   "source": [
    "\n",
    "X_test.shape"
   ]
  },
  {
   "cell_type": "code",
   "execution_count": 15,
   "metadata": {},
   "outputs": [],
   "source": [
    "K = keras.backend\n",
    "class ExponentialLearningRate(keras.callbacks.Callback):\n",
    "    def __init__(self, factor):\n",
    "        self.factor = factor\n",
    "        self.rates = []\n",
    "        self.losses = []\n",
    "    def on_batch_end(self, batch, logs):\n",
    "        self.rates.append(K.get_value(self.model.optimizer.learning_rate))\n",
    "        self.losses.append(logs[\"loss\"])\n",
    "        K.set_value(self.model.optimizer.learning_rate, self.model.optimizer.learning_rate * self.factor)"
   ]
  },
  {
   "cell_type": "code",
   "execution_count": 16,
   "metadata": {},
   "outputs": [],
   "source": [
    "import tensorflow as tf\n",
    "keras.backend.clear_session()\n",
    "np.random.seed(42)\n",
    "tf.random.set_seed(42)"
   ]
  },
  {
   "cell_type": "code",
   "execution_count": 17,
   "metadata": {},
   "outputs": [
    {
     "name": "stderr",
     "output_type": "stream",
     "text": [
      "/Library/Frameworks/Python.framework/Versions/3.11/lib/python3.11/site-packages/keras/src/layers/reshaping/flatten.py:37: UserWarning: Do not pass an `input_shape`/`input_dim` argument to a layer. When using Sequential models, prefer using an `Input(shape)` object as the first layer in the model instead.\n",
      "  super().__init__(**kwargs)\n"
     ]
    }
   ],
   "source": [
    "\n",
    "model = keras.models.Sequential([\n",
    "    keras.layers.Flatten(input_shape=[28, 28]),\n",
    "    keras.layers.Dense(300, activation=\"relu\"),\n",
    "    keras.layers.Dense(100, activation=\"relu\"),\n",
    "    keras.layers.Dense(10, activation=\"softmax\")\n",
    "])"
   ]
  },
  {
   "cell_type": "code",
   "execution_count": 18,
   "metadata": {},
   "outputs": [],
   "source": [
    "import tensorflow as tf\n",
    "\n",
    "initial_learning_rate = 1e-7\n",
    "lr_variable = K.variable(initial_learning_rate)\n",
    "optimizer = tf.keras.optimizers.SGD(learning_rate=initial_learning_rate)\n"
   ]
  },
  {
   "cell_type": "code",
   "execution_count": 20,
   "metadata": {},
   "outputs": [],
   "source": [
    "model.compile(loss=\"sparse_categorical_crossentropy\",\n",
    "              optimizer=optimizer,\n",
    "              metrics=[\"accuracy\"])\n",
    "expon_lr = ExponentialLearningRate(factor=1.005)"
   ]
  },
  {
   "cell_type": "code",
   "execution_count": 21,
   "metadata": {},
   "outputs": [
    {
     "name": "stdout",
     "output_type": "stream",
     "text": [
      "Optimizer: <keras.src.optimizers.sgd.SGD object at 0x11b6ca810>\n",
      "Learning rate type: <class 'keras.src.backend.Variable'>\n",
      "Learning rate value: 1e-07\n"
     ]
    }
   ],
   "source": [
    "print(\"Optimizer:\", model.optimizer)\n",
    "print(\"Learning rate type:\", type(model.optimizer.learning_rate))\n",
    "print(\"Learning rate value:\", K.get_value(model.optimizer.learning_rate))"
   ]
  },
  {
   "cell_type": "code",
   "execution_count": 22,
   "metadata": {},
   "outputs": [
    {
     "ename": "AttributeError",
     "evalue": "'str' object has no attribute 'name'",
     "output_type": "error",
     "traceback": [
      "\u001b[31m---------------------------------------------------------------------------\u001b[39m",
      "\u001b[31mAttributeError\u001b[39m                            Traceback (most recent call last)",
      "\u001b[36mCell\u001b[39m\u001b[36m \u001b[39m\u001b[32mIn[22]\u001b[39m\u001b[32m, line 1\u001b[39m\n\u001b[32m----> \u001b[39m\u001b[32m1\u001b[39m history = \u001b[43mmodel\u001b[49m\u001b[43m.\u001b[49m\u001b[43mfit\u001b[49m\u001b[43m(\u001b[49m\n\u001b[32m      2\u001b[39m \u001b[43m    \u001b[49m\u001b[43mX_train\u001b[49m\u001b[43m,\u001b[49m\u001b[43m \u001b[49m\u001b[43my_train\u001b[49m\u001b[43m,\u001b[49m\n\u001b[32m      3\u001b[39m \u001b[43m    \u001b[49m\u001b[43mepochs\u001b[49m\u001b[43m=\u001b[49m\u001b[32;43m1\u001b[39;49m\u001b[43m,\u001b[49m\n\u001b[32m      4\u001b[39m \u001b[43m    \u001b[49m\u001b[43mbatch_size\u001b[49m\u001b[43m=\u001b[49m\u001b[32;43m128\u001b[39;49m\u001b[43m,\u001b[49m\n\u001b[32m      5\u001b[39m \u001b[43m    \u001b[49m\u001b[43mvalidation_data\u001b[49m\u001b[43m=\u001b[49m\u001b[43m(\u001b[49m\u001b[43mX_valid\u001b[49m\u001b[43m,\u001b[49m\u001b[43m \u001b[49m\u001b[43my_valid\u001b[49m\u001b[43m)\u001b[49m\u001b[43m,\u001b[49m\n\u001b[32m      6\u001b[39m \u001b[43m    \u001b[49m\u001b[43mcallbacks\u001b[49m\u001b[43m=\u001b[49m\u001b[43m[\u001b[49m\u001b[43mexpon_lr\u001b[49m\u001b[43m]\u001b[49m\u001b[43m  \u001b[49m\u001b[38;5;66;43;03m# or lr_scheduler = ExponentialLRScheduler(factor=1.1)\u001b[39;49;00m\n\u001b[32m      7\u001b[39m \u001b[43m)\u001b[49m\n",
      "\u001b[36mFile \u001b[39m\u001b[32m/Library/Frameworks/Python.framework/Versions/3.11/lib/python3.11/site-packages/keras/src/utils/traceback_utils.py:122\u001b[39m, in \u001b[36mfilter_traceback.<locals>.error_handler\u001b[39m\u001b[34m(*args, **kwargs)\u001b[39m\n\u001b[32m    119\u001b[39m     filtered_tb = _process_traceback_frames(e.__traceback__)\n\u001b[32m    120\u001b[39m     \u001b[38;5;66;03m# To get the full stack trace, call:\u001b[39;00m\n\u001b[32m    121\u001b[39m     \u001b[38;5;66;03m# `keras.config.disable_traceback_filtering()`\u001b[39;00m\n\u001b[32m--> \u001b[39m\u001b[32m122\u001b[39m     \u001b[38;5;28;01mraise\u001b[39;00m e.with_traceback(filtered_tb) \u001b[38;5;28;01mfrom\u001b[39;00m\u001b[38;5;250m \u001b[39m\u001b[38;5;28;01mNone\u001b[39;00m\n\u001b[32m    123\u001b[39m \u001b[38;5;28;01mfinally\u001b[39;00m:\n\u001b[32m    124\u001b[39m     \u001b[38;5;28;01mdel\u001b[39;00m filtered_tb\n",
      "\u001b[36mCell\u001b[39m\u001b[36m \u001b[39m\u001b[32mIn[15]\u001b[39m\u001b[32m, line 10\u001b[39m, in \u001b[36mExponentialLearningRate.on_batch_end\u001b[39m\u001b[34m(self, batch, logs)\u001b[39m\n\u001b[32m      8\u001b[39m \u001b[38;5;28mself\u001b[39m.rates.append(K.get_value(\u001b[38;5;28mself\u001b[39m.model.optimizer.learning_rate))\n\u001b[32m      9\u001b[39m \u001b[38;5;28mself\u001b[39m.losses.append(logs[\u001b[33m\"\u001b[39m\u001b[33mloss\u001b[39m\u001b[33m\"\u001b[39m])\n\u001b[32m---> \u001b[39m\u001b[32m10\u001b[39m \u001b[43mK\u001b[49m\u001b[43m.\u001b[49m\u001b[43mset_value\u001b[49m\u001b[43m(\u001b[49m\u001b[38;5;28;43mself\u001b[39;49m\u001b[43m.\u001b[49m\u001b[43mmodel\u001b[49m\u001b[43m.\u001b[49m\u001b[43moptimizer\u001b[49m\u001b[43m.\u001b[49m\u001b[43mlearning_rate\u001b[49m\u001b[43m,\u001b[49m\u001b[43m \u001b[49m\u001b[38;5;28;43mself\u001b[39;49m\u001b[43m.\u001b[49m\u001b[43mmodel\u001b[49m\u001b[43m.\u001b[49m\u001b[43moptimizer\u001b[49m\u001b[43m.\u001b[49m\u001b[43mlearning_rate\u001b[49m\u001b[43m \u001b[49m\u001b[43m*\u001b[49m\u001b[43m \u001b[49m\u001b[38;5;28;43mself\u001b[39;49m\u001b[43m.\u001b[49m\u001b[43mfactor\u001b[49m\u001b[43m)\u001b[49m\n",
      "\u001b[31mAttributeError\u001b[39m: 'str' object has no attribute 'name'"
     ]
    }
   ],
   "source": [
    "history = model.fit(\n",
    "    X_train, y_train,\n",
    "    epochs=1,\n",
    "    batch_size=128,\n",
    "    validation_data=(X_valid, y_valid),\n",
    "    callbacks=[expon_lr]  # or lr_scheduler = ExponentialLRScheduler(factor=1.1)\n",
    ")\n"
   ]
  }
 ],
 "metadata": {
  "kernelspec": {
   "display_name": "Python 3",
   "language": "python",
   "name": "python3"
  },
  "language_info": {
   "codemirror_mode": {
    "name": "ipython",
    "version": 3
   },
   "file_extension": ".py",
   "mimetype": "text/x-python",
   "name": "python",
   "nbconvert_exporter": "python",
   "pygments_lexer": "ipython3",
   "version": "3.11.9"
  }
 },
 "nbformat": 4,
 "nbformat_minor": 2
}
