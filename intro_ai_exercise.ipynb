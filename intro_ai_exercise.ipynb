{
 "cells": [
  {
   "cell_type": "code",
   "execution_count": 7,
   "metadata": {},
   "outputs": [],
   "source": [
    "import numpy as np\n",
    "X = np.array([[0,0],[0,1],[1,0],[1,1]])\n",
    "y = np.array([[0],[1],[1],[0]])"
   ]
  },
  {
   "cell_type": "code",
   "execution_count": 8,
   "metadata": {},
   "outputs": [],
   "source": [
    "def sigmoid(x):\n",
    "    return 1/(1+np.exp(-x))\n",
    "\n",
    "def sigmoid_derivative(x):\n",
    "    return x*(1-x)"
   ]
  },
  {
   "cell_type": "code",
   "execution_count": 9,
   "metadata": {},
   "outputs": [],
   "source": [
    "np.random.seed(42)\n",
    "\n",
    "input_size = 2\n",
    "hidden_size = 2\n",
    "output_size = 1\n",
    "learning_rate = 0.1\n",
    "\n",
    "\n",
    "W1 = np.random.randn(input_size,hidden_size)\n",
    "b1 = np.zeros((1,hidden_size))\n",
    "W2 = np.random.randn(hidden_size,output_size)\n",
    "b2 = np.zeros((1,output_size))"
   ]
  },
  {
   "cell_type": "code",
   "execution_count": 10,
   "metadata": {},
   "outputs": [
    {
     "name": "stdout",
     "output_type": "stream",
     "text": [
      "Epoch 0, Loss: 0.2558\n",
      "Epoch 100, Loss: 0.2500\n",
      "Epoch 200, Loss: 0.2500\n",
      "Epoch 300, Loss: 0.2499\n",
      "Epoch 400, Loss: 0.2499\n",
      "Epoch 500, Loss: 0.2498\n",
      "Epoch 600, Loss: 0.2498\n",
      "Epoch 700, Loss: 0.2497\n",
      "Epoch 800, Loss: 0.2496\n",
      "Epoch 900, Loss: 0.2495\n"
     ]
    }
   ],
   "source": [
    "epochs = 1000\n",
    "for epoch in range(epochs):\n",
    "    # forward pass\n",
    "    z1 = np.dot(X,W1)+b1\n",
    "    a1 = sigmoid(z1)\n",
    "\n",
    "    z2 = np.dot(a1,W2) +b2\n",
    "    a2 = sigmoid(z2)\n",
    "\n",
    "    #backward pass \n",
    "    error = y - a2\n",
    "    d_output = error* sigmoid_derivative(a2)\n",
    "\n",
    "    error_hidden = np.dot(d_output,W2.T)\n",
    "    d_hidden = error_hidden * sigmoid_derivative(a1)\n",
    "\n",
    "    # Weight update\n",
    "\n",
    "    W2+=np.dot(a1.T,d_output)*learning_rate\n",
    "    b2+= np.sum(d_output,axis=0,keepdims=True)*learning_rate\n",
    "\n",
    "    W1+= np.dot(X.T,d_hidden)* learning_rate\n",
    "    b1+= np.sum(d_hidden,axis=0,keepdims=True)*learning_rate\n",
    "\n",
    "    if epoch % 100 == 0:\n",
    "        loss = np.mean(np.square(error))\n",
    "        print(f\"Epoch {epoch}, Loss: {loss:.4f}\")"
   ]
  },
  {
   "cell_type": "code",
   "execution_count": 11,
   "metadata": {},
   "outputs": [
    {
     "name": "stdout",
     "output_type": "stream",
     "text": [
      "Predictions:\n",
      "[[0.50540303]\n",
      " [0.48675586]\n",
      " [0.51476938]\n",
      " [0.49327691]]\n"
     ]
    }
   ],
   "source": [
    "def predict(x):\n",
    "    hidden = sigmoid(np.dot(x, W1) + b1)\n",
    "    output = sigmoid(np.dot(hidden, W2) + b2)\n",
    "    return output\n",
    "\n",
    "print(\"Predictions:\")\n",
    "print(predict(X))\n"
   ]
  }
 ],
 "metadata": {
  "kernelspec": {
   "display_name": "Python 3",
   "language": "python",
   "name": "python3"
  },
  "language_info": {
   "codemirror_mode": {
    "name": "ipython",
    "version": 3
   },
   "file_extension": ".py",
   "mimetype": "text/x-python",
   "name": "python",
   "nbconvert_exporter": "python",
   "pygments_lexer": "ipython3",
   "version": "3.11.9"
  }
 },
 "nbformat": 4,
 "nbformat_minor": 2
}
