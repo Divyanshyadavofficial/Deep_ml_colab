{
 "cells": [
  {
   "cell_type": "markdown",
   "metadata": {},
   "source": [
    "Is it OK to initialize all the weights to the same value as long as that value is\n",
    "selected randomly using He initialization?"
   ]
  },
  {
   "cell_type": "markdown",
   "metadata": {},
   "source": [
    "No, it is not OK to initialize all the weights to the same value, even if that value is selected randomly using He initialization (or any other initialization scheme).\n",
    "\n",
    "\n",
    "When training a neural network, each neuron must learn different features from the data. If all weights are initialized to the same value, then:\n",
    "\n",
    "Each neuron in a layer receives the same gradients during backpropagation.\n",
    "They all get updated identically during training.\n",
    "This means they will continue to learn the same features — effectively behaving as if there's only one neuron, not many.\n",
    "This problem is known as the symmetry problem."
   ]
  },
  {
   "cell_type": "markdown",
   "metadata": {},
   "source": [
    "Is it OK to initialize the bias terms to 0?"
   ]
  },
  {
   "cell_type": "markdown",
   "metadata": {},
   "source": [
    "Biases are not involved in symmetry breaking in the same way weights are.\n",
    "\n",
    "Weights determine how inputs are combined. If they are the same, neurons become indistinguishable — this is bad.\n",
    "Biases just shift the output of the activation function. Initializing them to zero does not prevent neurons from learning different features, as long as weights are initialized properly (e.g., with He or Xavier initialization).\n",
    "\n",
    "\n",
    "\n",
    "Imagine this neuron:\n",
    "\n",
    "\n",
    "z = w⋅x+b\n",
    "If all biases \n",
    "\n",
    "b = 0, the variation in outputs comes from \n",
    "w\n",
    "⋅\n",
    "x\n",
    "w⋅x, which is already randomized via proper weight initialization. As learning progresses, the bias values will adapt as needed\n",
    "\n",
    "\n",
    "\n",
    "In some deep or very sparse networks, initializing biases to small positive values (e.g., 0.01) can help prevent neurons from being inactive (e.g., with ReLU activations). But even then, zero is a reasonable default\n",
    "\n"
   ]
  },
  {
   "cell_type": "markdown",
   "metadata": {},
   "source": [
    "Name three advantages of the SELU activation function over ReLU."
   ]
  },
  {
   "cell_type": "markdown",
   "metadata": {},
   "source": [
    "1.  Self-Normalizing Behavior\n",
    "Advantage: SELU keeps the mean and variance of the activations close to 0 and 1, respectively, throughout the network.\n",
    "Why it matters: This stabilizes and accelerates training by reducing the risk of exploding/vanishing gradients.\n",
    "ReLU drawback: ReLU doesn’t normalize activations and often requires Batch Normalization to stabilize training.\n",
    "\n",
    "\n",
    "2.  Non-Zero Mean & Negative Activations\n",
    "Advantage: SELU outputs both positive and negative values, which helps in maintaining zero-centered activations.\n",
    "Why it matters: This makes optimization easier and improves convergence.\n",
    "ReLU drawback: ReLU outputs are always ≥ 0, which can shift the mean of activations and slow down training.\n",
    "\n",
    "\n",
    "3.  Avoids Dead Neurons\n",
    "Advantage: SELU is differentiable everywhere, even for negative inputs (due to its exponential part), so neurons are less likely to \"die.\"\n",
    "Why it matters: Every neuron can still contribute to learning.\n",
    "ReLU drawback: Neurons can \"die\" (i.e., get stuck outputting 0 for all inputs) if they receive only negative inputs during training."
   ]
  },
  {
   "cell_type": "markdown",
   "metadata": {},
   "source": [
    "In which cases would you want to use each of the following activation functions:\n",
    "SELU, leaky ReLU (and its variants), ReLU, tanh, logistic, and softmax?"
   ]
  },
  {
   "cell_type": "markdown",
   "metadata": {},
   "source": [
    "| Activation                   | Best Used In                         | Typical Use Case                   | Output Range  | Notes                              |\n",
    "| ---------------------------- | ------------------------------------ | ---------------------------------- | ------------- | ---------------------------------- |\n",
    "| **SELU**                     | Deep dense nets                      | Self-normalizing nets              | \\~(-3.6, 3.6) | Use with LeCun init, no BN/dropout |\n",
    "| **Leaky ReLU / PReLU / ELU** | Deep nets                            | Avoiding dead neurons              | (-∞, ∞)       | Keeps gradients flowing            |\n",
    "| **ReLU**                     | Most hidden layers (default)         | CNNs, MLPs                         | \\[0, ∞)       | Simple and efficient               |\n",
    "| **tanh**                     | RNNs, shallow nets                   | Centered activations               | \\[-1, 1]      | Can still vanish for large inputs  |\n",
    "| **Sigmoid**                  | Binary classification (output layer) | Probabilistic output               | (0, 1)        | Not used in hidden layers anymore  |\n",
    "| **Softmax**                  | Multi-class classification           | Output probabilities (multi-class) | (0, 1), sum=1 | Used only in final output layer    |\n"
   ]
  },
  {
   "cell_type": "markdown",
   "metadata": {},
   "source": [
    "What may happen if you set the momentum hyperparameter too close to 1 (e.g.,\n",
    "0.99999) when using an SGD optimizer?"
   ]
  },
  {
   "cell_type": "markdown",
   "metadata": {},
   "source": [
    "f you set the momentum hyperparameter too close to 1 (e.g., 0.99999) when using Stochastic Gradient Descent (SGD with momentum), the optimizer can become unstable or very slow to adapt.\n",
    "\n",
    "⚠️ Potential Issues:\n",
    "1. Overshooting and Oscillations\n",
    "\n",
    "What happens: The momentum term accumulates updates for too long, causing the optimizer to overshoot the minimum and oscillate around it.\n",
    "Why: High momentum means the algorithm relies heavily on past gradients — even if the current gradient is small or changes direction.\n",
    "2. Very Slow Convergence\n",
    "\n",
    "What happens: If the accumulated velocity is too dominant, the optimizer may ignore newer gradient directions and take a long time to correct its course.\n",
    "Why: It becomes “inertia-heavy,” resisting necessary changes in direction.\n",
    "3. Divergence\n",
    "\n",
    "What happens: In some cases, especially with high learning rates or poor initialization, the model’s weights may diverge completely.\n",
    "Why: Too much momentum acts like pushing a ball too fast downhill — it can skip over the minimum entirely.\n",
    "🧠 Intuition: What is Momentum?\n",
    "In SGD with momentum, the update is:\n",
    "\n",
    "v\n",
    "t\n",
    "=\n",
    "γ\n",
    "v\n",
    "t\n",
    "−\n",
    "1\n",
    "+\n",
    "η\n",
    "∇\n",
    "L\n",
    "(\n",
    "θ\n",
    "t\n",
    ")\n",
    "v \n",
    "t\n",
    "​\t\n",
    " =γv \n",
    "t−1\n",
    "​\t\n",
    " +η∇L(θ \n",
    "t\n",
    "​\t\n",
    " )\n",
    "θ\n",
    "t\n",
    "+\n",
    "1\n",
    "=\n",
    "θ\n",
    "t\n",
    "−\n",
    "v\n",
    "t\n",
    "θ \n",
    "t+1\n",
    "​\t\n",
    " =θ \n",
    "t\n",
    "​\t\n",
    " −v \n",
    "t\n",
    "​\t\n",
    " \n",
    "γ\n",
    "γ: momentum (typically ~0.9)\n",
    "η\n",
    "η: learning rate\n",
    "With \n",
    "γ\n",
    "=\n",
    "0.99999\n",
    "γ=0.99999, the old velocity term \n",
    "v\n",
    "t\n",
    "−\n",
    "1\n",
    "v \n",
    "t−1\n",
    "​\t\n",
    "  dominates nearly all updates, drowning out new gradients."
   ]
  },
  {
   "cell_type": "markdown",
   "metadata": {},
   "source": [
    "| Momentum Value | Effect                                       |\n",
    "| -------------- | -------------------------------------------- |\n",
    "| 0.0            | Pure SGD (no momentum) → slow                |\n",
    "| 0.9 (default)  | Balanced, accelerates in right directions    |\n",
    "| > 0.95         | Faster convergence, but risk of instability  |\n",
    "| \\~0.99999      | 🚨 Too aggressive — may diverge or oscillate |\n"
   ]
  },
  {
   "cell_type": "markdown",
   "metadata": {},
   "source": [
    "Name three ways you can produce a sparse model."
   ]
  },
  {
   "cell_type": "markdown",
   "metadata": {},
   "source": [
    "1. 🧹 L1 Regularization (Lasso)\n",
    "How it works: Adds a penalty to the loss function based on the sum of absolute values of weights:\n",
    "Loss\n",
    "+\n",
    "λ\n",
    "∑\n",
    "i\n",
    "∣\n",
    "w\n",
    "i\n",
    "∣\n",
    "Loss+λ \n",
    "i\n",
    "∑\n",
    "​\t\n",
    " ∣w \n",
    "i|\n",
    "\n",
    "\n",
    "Effect: Drives many weights to exactly zero, producing a sparse model.\n",
    "Used in: Linear models, logistic regression, neural networks.\n",
    "\n",
    "\n",
    "2. ✂️ Pruning (Weight or Neuron Pruning)\n",
    "How it works:\n",
    "After training, remove weights (or neurons) that are close to zero or have little impact on output.\n",
    "Can be done manually or with frameworks like TensorFlow Model Optimization Toolkit.\n",
    "Types:\n",
    "Unstructured pruning: Individual weights removed.\n",
    "Structured pruning: Entire filters, channels, or neurons removed.\n",
    "Used in: Neural networks, especially to reduce size for deployment.\n",
    "\n",
    "\n",
    "3. 🧬 Sparse Initialization or Architectures\n",
    "How it works:\n",
    "Design models with a sparse architecture from the beginning (e.g., use fewer connections).\n",
    "Or initialize weights with many zeros and allow only important ones to be trained (dynamic sparse training).\n",
    "Examples:\n",
    "\n",
    "\n",
    "Lottery Ticket Hypothesis: Find sparse subnetworks that train just as well.\n",
    "Sparse Transformers: Used in NLP to reduce attention complexity.\n",
    "\n",
    "| Method                   | Description                         | Common Use Cases                |\n",
    "| ------------------------ | ----------------------------------- | ------------------------------- |\n",
    "| **L1 Regularization**    | Penalizes non-zero weights          | Regression, neural networks     |\n",
    "| **Pruning**              | Removes unimportant weights/neurons | Model compression, deployment   |\n",
    "| **Sparse Architectures** | Use sparsity by design              | Transformers, large neural nets |\n"
   ]
  },
  {
   "cell_type": "markdown",
   "metadata": {},
   "source": [
    "Does dropout slow down training? Does it slow down inference (i.e., making\n",
    "predictions on new instances)? What about MC Dropout?"
   ]
  },
  {
   "cell_type": "markdown",
   "metadata": {},
   "source": [
    "✅ 1. Dropout during Training\n",
    "\n",
    "⏳ Does Dropout slow down training?\n",
    "Yes, slightly.\n",
    "Why:\n",
    "It introduces random masking of neurons during each training step.\n",
    "Adds a bit of overhead, but modern hardware handles this well.\n",
    "Tradeoff:\n",
    "Small computational cost vs. significant regularization benefit (helps prevent overfitting).\n",
    "✅ 2. Dropout during Inference (Standard Dropout)\n",
    "\n",
    "🚀 Does Dropout slow down inference?\n",
    "No. Dropout is disabled during inference in standard usage.\n",
    "Instead, the model uses the full network but scales weights to account for the dropped neurons during training.\n",
    "So:\n",
    "Inference is fast, just like a regular feedforward pass.\n",
    "No randomness — deterministic output.\n",
    "🔁 3. MC Dropout (Monte Carlo Dropout)\n",
    "\n",
    "⏳ Does MC Dropout slow down inference?\n",
    "Yes, significantly.\n",
    "Why:\n",
    "MC Dropout keeps dropout active at inference time to estimate uncertainty.\n",
    "Multiple forward passes (e.g., 10–100) are made for the same input, each with different dropout masks.\n",
    "The predictions are averaged (for mean prediction) or used to calculate uncertainty (variance).\n",
    "\n",
    "\n",
    "📊 Use Case:\n",
    "When you need uncertainty estimates in predictions.\n",
    "Common in Bayesian deep learning, medical AI, safety-critical applications."
   ]
  },
  {
   "cell_type": "markdown",
   "metadata": {},
   "source": [
    "| Method         | Training Speed  | Inference Speed                          | Stochastic Output at Inference? | Use Case                          |\n",
    "| -------------- | --------------- | ---------------------------------------- | ------------------------------- | --------------------------------- |\n",
    "| **Dropout**    | Slightly slower | Fast                                     | ❌ No                            | Regularization during training    |\n",
    "| **MC Dropout** | Same as Dropout | **Much slower** (due to multiple passes) | ✅ Yes                           | Predictive uncertainty estimation |\n"
   ]
  },
  {
   "cell_type": "code",
   "execution_count": 1,
   "metadata": {},
   "outputs": [],
   "source": [
    "import tensorflow as tf\n",
    "import numpy as np \n",
    "import pandas as pd\n",
    "import keras.backend as k\n",
    "from tensorflow import keras\n"
   ]
  },
  {
   "cell_type": "code",
   "execution_count": 2,
   "metadata": {},
   "outputs": [
    {
     "name": "stderr",
     "output_type": "stream",
     "text": [
      "/Library/Frameworks/Python.framework/Versions/3.11/lib/python3.11/site-packages/keras/src/layers/reshaping/flatten.py:37: UserWarning: Do not pass an `input_shape`/`input_dim` argument to a layer. When using Sequential models, prefer using an `Input(shape)` object as the first layer in the model instead.\n",
      "  super().__init__(**kwargs)\n"
     ]
    }
   ],
   "source": [
    "from tensorflow.keras.initializers import lecun_normal\n",
    "model = keras.models.Sequential([\n",
    "    keras.layers.Flatten(input_shape=[32,32,3]), \n",
    "    keras.layers.Dense(100,activation=\"selu\",kernel_initializer=lecun_normal()), \n",
    "    keras.layers.Dense(100,activation=\"selu\",kernel_initializer=lecun_normal()),\n",
    "    keras.layers.Dense(100,activation=\"selu\",kernel_initializer=lecun_normal()),\n",
    "    keras.layers.Dense(100,activation=\"selu\",kernel_initializer=lecun_normal()),\n",
    "    keras.layers.Dense(100,activation=\"selu\",kernel_initializer=lecun_normal()),\n",
    "    keras.layers.Dense(100,activation=\"selu\",kernel_initializer=lecun_normal()),\n",
    "    keras.layers.Dense(100,activation=\"selu\",kernel_initializer=lecun_normal()),\n",
    "    keras.layers.Dense(100,activation=\"selu\",kernel_initializer=lecun_normal()),\n",
    "    keras.layers.Dense(100,activation=\"selu\",kernel_initializer=lecun_normal()),\n",
    "    keras.layers.Dense(100,activation=\"selu\",kernel_initializer=lecun_normal()),\n",
    "    keras.layers.Dense(100,activation=\"selu\",kernel_initializer=lecun_normal()),\n",
    "    keras.layers.Dense(100,activation=\"selu\",kernel_initializer=lecun_normal()),\n",
    "    keras.layers.Dense(100,activation=\"selu\",kernel_initializer=lecun_normal()),\n",
    "    keras.layers.Dense(100,activation=\"selu\",kernel_initializer=lecun_normal()),\n",
    "    keras.layers.Dense(100,activation=\"selu\",kernel_initializer=lecun_normal()),\n",
    "    keras.layers.Dense(100,activation=\"selu\",kernel_initializer=lecun_normal()),\n",
    "    keras.layers.Dense(100,activation=\"selu\",kernel_initializer=lecun_normal()),\n",
    "    keras.layers.Dense(100,activation=\"selu\",kernel_initializer=lecun_normal()),\n",
    "    keras.layers.Dense(100,activation=\"selu\",kernel_initializer=lecun_normal()),\n",
    "    keras.layers.Dense(100,activation=\"selu\",kernel_initializer=lecun_normal()),\n",
    "    keras.layers.Dense(10,activation=\"softmax\")\n",
    "\n",
    "])"
   ]
  },
  {
   "cell_type": "code",
   "execution_count": 3,
   "metadata": {},
   "outputs": [],
   "source": [
    "model.compile(optimizer='adam',loss = 'sparse_categorical_crossentropy',metrics=['sparse_categorical_accuracy'])\n"
   ]
  },
  {
   "cell_type": "code",
   "execution_count": 4,
   "metadata": {},
   "outputs": [
    {
     "data": {
      "text/html": [
       "<pre style=\"white-space:pre;overflow-x:auto;line-height:normal;font-family:Menlo,'DejaVu Sans Mono',consolas,'Courier New',monospace\"><span style=\"font-weight: bold\">Model: \"sequential\"</span>\n",
       "</pre>\n"
      ],
      "text/plain": [
       "\u001b[1mModel: \"sequential\"\u001b[0m\n"
      ]
     },
     "metadata": {},
     "output_type": "display_data"
    },
    {
     "data": {
      "text/html": [
       "<pre style=\"white-space:pre;overflow-x:auto;line-height:normal;font-family:Menlo,'DejaVu Sans Mono',consolas,'Courier New',monospace\">┏━━━━━━━━━━━━━━━━━━━━━━━━━━━━━━━━━┳━━━━━━━━━━━━━━━━━━━━━━━━┳━━━━━━━━━━━━━━━┓\n",
       "┃<span style=\"font-weight: bold\"> Layer (type)                    </span>┃<span style=\"font-weight: bold\"> Output Shape           </span>┃<span style=\"font-weight: bold\">       Param # </span>┃\n",
       "┡━━━━━━━━━━━━━━━━━━━━━━━━━━━━━━━━━╇━━━━━━━━━━━━━━━━━━━━━━━━╇━━━━━━━━━━━━━━━┩\n",
       "│ flatten (<span style=\"color: #0087ff; text-decoration-color: #0087ff\">Flatten</span>)               │ (<span style=\"color: #00d7ff; text-decoration-color: #00d7ff\">None</span>, <span style=\"color: #00af00; text-decoration-color: #00af00\">3072</span>)           │             <span style=\"color: #00af00; text-decoration-color: #00af00\">0</span> │\n",
       "├─────────────────────────────────┼────────────────────────┼───────────────┤\n",
       "│ dense (<span style=\"color: #0087ff; text-decoration-color: #0087ff\">Dense</span>)                   │ (<span style=\"color: #00d7ff; text-decoration-color: #00d7ff\">None</span>, <span style=\"color: #00af00; text-decoration-color: #00af00\">100</span>)            │       <span style=\"color: #00af00; text-decoration-color: #00af00\">307,300</span> │\n",
       "├─────────────────────────────────┼────────────────────────┼───────────────┤\n",
       "│ dense_1 (<span style=\"color: #0087ff; text-decoration-color: #0087ff\">Dense</span>)                 │ (<span style=\"color: #00d7ff; text-decoration-color: #00d7ff\">None</span>, <span style=\"color: #00af00; text-decoration-color: #00af00\">100</span>)            │        <span style=\"color: #00af00; text-decoration-color: #00af00\">10,100</span> │\n",
       "├─────────────────────────────────┼────────────────────────┼───────────────┤\n",
       "│ dense_2 (<span style=\"color: #0087ff; text-decoration-color: #0087ff\">Dense</span>)                 │ (<span style=\"color: #00d7ff; text-decoration-color: #00d7ff\">None</span>, <span style=\"color: #00af00; text-decoration-color: #00af00\">100</span>)            │        <span style=\"color: #00af00; text-decoration-color: #00af00\">10,100</span> │\n",
       "├─────────────────────────────────┼────────────────────────┼───────────────┤\n",
       "│ dense_3 (<span style=\"color: #0087ff; text-decoration-color: #0087ff\">Dense</span>)                 │ (<span style=\"color: #00d7ff; text-decoration-color: #00d7ff\">None</span>, <span style=\"color: #00af00; text-decoration-color: #00af00\">100</span>)            │        <span style=\"color: #00af00; text-decoration-color: #00af00\">10,100</span> │\n",
       "├─────────────────────────────────┼────────────────────────┼───────────────┤\n",
       "│ dense_4 (<span style=\"color: #0087ff; text-decoration-color: #0087ff\">Dense</span>)                 │ (<span style=\"color: #00d7ff; text-decoration-color: #00d7ff\">None</span>, <span style=\"color: #00af00; text-decoration-color: #00af00\">100</span>)            │        <span style=\"color: #00af00; text-decoration-color: #00af00\">10,100</span> │\n",
       "├─────────────────────────────────┼────────────────────────┼───────────────┤\n",
       "│ dense_5 (<span style=\"color: #0087ff; text-decoration-color: #0087ff\">Dense</span>)                 │ (<span style=\"color: #00d7ff; text-decoration-color: #00d7ff\">None</span>, <span style=\"color: #00af00; text-decoration-color: #00af00\">100</span>)            │        <span style=\"color: #00af00; text-decoration-color: #00af00\">10,100</span> │\n",
       "├─────────────────────────────────┼────────────────────────┼───────────────┤\n",
       "│ dense_6 (<span style=\"color: #0087ff; text-decoration-color: #0087ff\">Dense</span>)                 │ (<span style=\"color: #00d7ff; text-decoration-color: #00d7ff\">None</span>, <span style=\"color: #00af00; text-decoration-color: #00af00\">100</span>)            │        <span style=\"color: #00af00; text-decoration-color: #00af00\">10,100</span> │\n",
       "├─────────────────────────────────┼────────────────────────┼───────────────┤\n",
       "│ dense_7 (<span style=\"color: #0087ff; text-decoration-color: #0087ff\">Dense</span>)                 │ (<span style=\"color: #00d7ff; text-decoration-color: #00d7ff\">None</span>, <span style=\"color: #00af00; text-decoration-color: #00af00\">100</span>)            │        <span style=\"color: #00af00; text-decoration-color: #00af00\">10,100</span> │\n",
       "├─────────────────────────────────┼────────────────────────┼───────────────┤\n",
       "│ dense_8 (<span style=\"color: #0087ff; text-decoration-color: #0087ff\">Dense</span>)                 │ (<span style=\"color: #00d7ff; text-decoration-color: #00d7ff\">None</span>, <span style=\"color: #00af00; text-decoration-color: #00af00\">100</span>)            │        <span style=\"color: #00af00; text-decoration-color: #00af00\">10,100</span> │\n",
       "├─────────────────────────────────┼────────────────────────┼───────────────┤\n",
       "│ dense_9 (<span style=\"color: #0087ff; text-decoration-color: #0087ff\">Dense</span>)                 │ (<span style=\"color: #00d7ff; text-decoration-color: #00d7ff\">None</span>, <span style=\"color: #00af00; text-decoration-color: #00af00\">100</span>)            │        <span style=\"color: #00af00; text-decoration-color: #00af00\">10,100</span> │\n",
       "├─────────────────────────────────┼────────────────────────┼───────────────┤\n",
       "│ dense_10 (<span style=\"color: #0087ff; text-decoration-color: #0087ff\">Dense</span>)                │ (<span style=\"color: #00d7ff; text-decoration-color: #00d7ff\">None</span>, <span style=\"color: #00af00; text-decoration-color: #00af00\">100</span>)            │        <span style=\"color: #00af00; text-decoration-color: #00af00\">10,100</span> │\n",
       "├─────────────────────────────────┼────────────────────────┼───────────────┤\n",
       "│ dense_11 (<span style=\"color: #0087ff; text-decoration-color: #0087ff\">Dense</span>)                │ (<span style=\"color: #00d7ff; text-decoration-color: #00d7ff\">None</span>, <span style=\"color: #00af00; text-decoration-color: #00af00\">100</span>)            │        <span style=\"color: #00af00; text-decoration-color: #00af00\">10,100</span> │\n",
       "├─────────────────────────────────┼────────────────────────┼───────────────┤\n",
       "│ dense_12 (<span style=\"color: #0087ff; text-decoration-color: #0087ff\">Dense</span>)                │ (<span style=\"color: #00d7ff; text-decoration-color: #00d7ff\">None</span>, <span style=\"color: #00af00; text-decoration-color: #00af00\">100</span>)            │        <span style=\"color: #00af00; text-decoration-color: #00af00\">10,100</span> │\n",
       "├─────────────────────────────────┼────────────────────────┼───────────────┤\n",
       "│ dense_13 (<span style=\"color: #0087ff; text-decoration-color: #0087ff\">Dense</span>)                │ (<span style=\"color: #00d7ff; text-decoration-color: #00d7ff\">None</span>, <span style=\"color: #00af00; text-decoration-color: #00af00\">100</span>)            │        <span style=\"color: #00af00; text-decoration-color: #00af00\">10,100</span> │\n",
       "├─────────────────────────────────┼────────────────────────┼───────────────┤\n",
       "│ dense_14 (<span style=\"color: #0087ff; text-decoration-color: #0087ff\">Dense</span>)                │ (<span style=\"color: #00d7ff; text-decoration-color: #00d7ff\">None</span>, <span style=\"color: #00af00; text-decoration-color: #00af00\">100</span>)            │        <span style=\"color: #00af00; text-decoration-color: #00af00\">10,100</span> │\n",
       "├─────────────────────────────────┼────────────────────────┼───────────────┤\n",
       "│ dense_15 (<span style=\"color: #0087ff; text-decoration-color: #0087ff\">Dense</span>)                │ (<span style=\"color: #00d7ff; text-decoration-color: #00d7ff\">None</span>, <span style=\"color: #00af00; text-decoration-color: #00af00\">100</span>)            │        <span style=\"color: #00af00; text-decoration-color: #00af00\">10,100</span> │\n",
       "├─────────────────────────────────┼────────────────────────┼───────────────┤\n",
       "│ dense_16 (<span style=\"color: #0087ff; text-decoration-color: #0087ff\">Dense</span>)                │ (<span style=\"color: #00d7ff; text-decoration-color: #00d7ff\">None</span>, <span style=\"color: #00af00; text-decoration-color: #00af00\">100</span>)            │        <span style=\"color: #00af00; text-decoration-color: #00af00\">10,100</span> │\n",
       "├─────────────────────────────────┼────────────────────────┼───────────────┤\n",
       "│ dense_17 (<span style=\"color: #0087ff; text-decoration-color: #0087ff\">Dense</span>)                │ (<span style=\"color: #00d7ff; text-decoration-color: #00d7ff\">None</span>, <span style=\"color: #00af00; text-decoration-color: #00af00\">100</span>)            │        <span style=\"color: #00af00; text-decoration-color: #00af00\">10,100</span> │\n",
       "├─────────────────────────────────┼────────────────────────┼───────────────┤\n",
       "│ dense_18 (<span style=\"color: #0087ff; text-decoration-color: #0087ff\">Dense</span>)                │ (<span style=\"color: #00d7ff; text-decoration-color: #00d7ff\">None</span>, <span style=\"color: #00af00; text-decoration-color: #00af00\">100</span>)            │        <span style=\"color: #00af00; text-decoration-color: #00af00\">10,100</span> │\n",
       "├─────────────────────────────────┼────────────────────────┼───────────────┤\n",
       "│ dense_19 (<span style=\"color: #0087ff; text-decoration-color: #0087ff\">Dense</span>)                │ (<span style=\"color: #00d7ff; text-decoration-color: #00d7ff\">None</span>, <span style=\"color: #00af00; text-decoration-color: #00af00\">100</span>)            │        <span style=\"color: #00af00; text-decoration-color: #00af00\">10,100</span> │\n",
       "├─────────────────────────────────┼────────────────────────┼───────────────┤\n",
       "│ dense_20 (<span style=\"color: #0087ff; text-decoration-color: #0087ff\">Dense</span>)                │ (<span style=\"color: #00d7ff; text-decoration-color: #00d7ff\">None</span>, <span style=\"color: #00af00; text-decoration-color: #00af00\">10</span>)             │         <span style=\"color: #00af00; text-decoration-color: #00af00\">1,010</span> │\n",
       "└─────────────────────────────────┴────────────────────────┴───────────────┘\n",
       "</pre>\n"
      ],
      "text/plain": [
       "┏━━━━━━━━━━━━━━━━━━━━━━━━━━━━━━━━━┳━━━━━━━━━━━━━━━━━━━━━━━━┳━━━━━━━━━━━━━━━┓\n",
       "┃\u001b[1m \u001b[0m\u001b[1mLayer (type)                   \u001b[0m\u001b[1m \u001b[0m┃\u001b[1m \u001b[0m\u001b[1mOutput Shape          \u001b[0m\u001b[1m \u001b[0m┃\u001b[1m \u001b[0m\u001b[1m      Param #\u001b[0m\u001b[1m \u001b[0m┃\n",
       "┡━━━━━━━━━━━━━━━━━━━━━━━━━━━━━━━━━╇━━━━━━━━━━━━━━━━━━━━━━━━╇━━━━━━━━━━━━━━━┩\n",
       "│ flatten (\u001b[38;5;33mFlatten\u001b[0m)               │ (\u001b[38;5;45mNone\u001b[0m, \u001b[38;5;34m3072\u001b[0m)           │             \u001b[38;5;34m0\u001b[0m │\n",
       "├─────────────────────────────────┼────────────────────────┼───────────────┤\n",
       "│ dense (\u001b[38;5;33mDense\u001b[0m)                   │ (\u001b[38;5;45mNone\u001b[0m, \u001b[38;5;34m100\u001b[0m)            │       \u001b[38;5;34m307,300\u001b[0m │\n",
       "├─────────────────────────────────┼────────────────────────┼───────────────┤\n",
       "│ dense_1 (\u001b[38;5;33mDense\u001b[0m)                 │ (\u001b[38;5;45mNone\u001b[0m, \u001b[38;5;34m100\u001b[0m)            │        \u001b[38;5;34m10,100\u001b[0m │\n",
       "├─────────────────────────────────┼────────────────────────┼───────────────┤\n",
       "│ dense_2 (\u001b[38;5;33mDense\u001b[0m)                 │ (\u001b[38;5;45mNone\u001b[0m, \u001b[38;5;34m100\u001b[0m)            │        \u001b[38;5;34m10,100\u001b[0m │\n",
       "├─────────────────────────────────┼────────────────────────┼───────────────┤\n",
       "│ dense_3 (\u001b[38;5;33mDense\u001b[0m)                 │ (\u001b[38;5;45mNone\u001b[0m, \u001b[38;5;34m100\u001b[0m)            │        \u001b[38;5;34m10,100\u001b[0m │\n",
       "├─────────────────────────────────┼────────────────────────┼───────────────┤\n",
       "│ dense_4 (\u001b[38;5;33mDense\u001b[0m)                 │ (\u001b[38;5;45mNone\u001b[0m, \u001b[38;5;34m100\u001b[0m)            │        \u001b[38;5;34m10,100\u001b[0m │\n",
       "├─────────────────────────────────┼────────────────────────┼───────────────┤\n",
       "│ dense_5 (\u001b[38;5;33mDense\u001b[0m)                 │ (\u001b[38;5;45mNone\u001b[0m, \u001b[38;5;34m100\u001b[0m)            │        \u001b[38;5;34m10,100\u001b[0m │\n",
       "├─────────────────────────────────┼────────────────────────┼───────────────┤\n",
       "│ dense_6 (\u001b[38;5;33mDense\u001b[0m)                 │ (\u001b[38;5;45mNone\u001b[0m, \u001b[38;5;34m100\u001b[0m)            │        \u001b[38;5;34m10,100\u001b[0m │\n",
       "├─────────────────────────────────┼────────────────────────┼───────────────┤\n",
       "│ dense_7 (\u001b[38;5;33mDense\u001b[0m)                 │ (\u001b[38;5;45mNone\u001b[0m, \u001b[38;5;34m100\u001b[0m)            │        \u001b[38;5;34m10,100\u001b[0m │\n",
       "├─────────────────────────────────┼────────────────────────┼───────────────┤\n",
       "│ dense_8 (\u001b[38;5;33mDense\u001b[0m)                 │ (\u001b[38;5;45mNone\u001b[0m, \u001b[38;5;34m100\u001b[0m)            │        \u001b[38;5;34m10,100\u001b[0m │\n",
       "├─────────────────────────────────┼────────────────────────┼───────────────┤\n",
       "│ dense_9 (\u001b[38;5;33mDense\u001b[0m)                 │ (\u001b[38;5;45mNone\u001b[0m, \u001b[38;5;34m100\u001b[0m)            │        \u001b[38;5;34m10,100\u001b[0m │\n",
       "├─────────────────────────────────┼────────────────────────┼───────────────┤\n",
       "│ dense_10 (\u001b[38;5;33mDense\u001b[0m)                │ (\u001b[38;5;45mNone\u001b[0m, \u001b[38;5;34m100\u001b[0m)            │        \u001b[38;5;34m10,100\u001b[0m │\n",
       "├─────────────────────────────────┼────────────────────────┼───────────────┤\n",
       "│ dense_11 (\u001b[38;5;33mDense\u001b[0m)                │ (\u001b[38;5;45mNone\u001b[0m, \u001b[38;5;34m100\u001b[0m)            │        \u001b[38;5;34m10,100\u001b[0m │\n",
       "├─────────────────────────────────┼────────────────────────┼───────────────┤\n",
       "│ dense_12 (\u001b[38;5;33mDense\u001b[0m)                │ (\u001b[38;5;45mNone\u001b[0m, \u001b[38;5;34m100\u001b[0m)            │        \u001b[38;5;34m10,100\u001b[0m │\n",
       "├─────────────────────────────────┼────────────────────────┼───────────────┤\n",
       "│ dense_13 (\u001b[38;5;33mDense\u001b[0m)                │ (\u001b[38;5;45mNone\u001b[0m, \u001b[38;5;34m100\u001b[0m)            │        \u001b[38;5;34m10,100\u001b[0m │\n",
       "├─────────────────────────────────┼────────────────────────┼───────────────┤\n",
       "│ dense_14 (\u001b[38;5;33mDense\u001b[0m)                │ (\u001b[38;5;45mNone\u001b[0m, \u001b[38;5;34m100\u001b[0m)            │        \u001b[38;5;34m10,100\u001b[0m │\n",
       "├─────────────────────────────────┼────────────────────────┼───────────────┤\n",
       "│ dense_15 (\u001b[38;5;33mDense\u001b[0m)                │ (\u001b[38;5;45mNone\u001b[0m, \u001b[38;5;34m100\u001b[0m)            │        \u001b[38;5;34m10,100\u001b[0m │\n",
       "├─────────────────────────────────┼────────────────────────┼───────────────┤\n",
       "│ dense_16 (\u001b[38;5;33mDense\u001b[0m)                │ (\u001b[38;5;45mNone\u001b[0m, \u001b[38;5;34m100\u001b[0m)            │        \u001b[38;5;34m10,100\u001b[0m │\n",
       "├─────────────────────────────────┼────────────────────────┼───────────────┤\n",
       "│ dense_17 (\u001b[38;5;33mDense\u001b[0m)                │ (\u001b[38;5;45mNone\u001b[0m, \u001b[38;5;34m100\u001b[0m)            │        \u001b[38;5;34m10,100\u001b[0m │\n",
       "├─────────────────────────────────┼────────────────────────┼───────────────┤\n",
       "│ dense_18 (\u001b[38;5;33mDense\u001b[0m)                │ (\u001b[38;5;45mNone\u001b[0m, \u001b[38;5;34m100\u001b[0m)            │        \u001b[38;5;34m10,100\u001b[0m │\n",
       "├─────────────────────────────────┼────────────────────────┼───────────────┤\n",
       "│ dense_19 (\u001b[38;5;33mDense\u001b[0m)                │ (\u001b[38;5;45mNone\u001b[0m, \u001b[38;5;34m100\u001b[0m)            │        \u001b[38;5;34m10,100\u001b[0m │\n",
       "├─────────────────────────────────┼────────────────────────┼───────────────┤\n",
       "│ dense_20 (\u001b[38;5;33mDense\u001b[0m)                │ (\u001b[38;5;45mNone\u001b[0m, \u001b[38;5;34m10\u001b[0m)             │         \u001b[38;5;34m1,010\u001b[0m │\n",
       "└─────────────────────────────────┴────────────────────────┴───────────────┘\n"
      ]
     },
     "metadata": {},
     "output_type": "display_data"
    },
    {
     "data": {
      "text/html": [
       "<pre style=\"white-space:pre;overflow-x:auto;line-height:normal;font-family:Menlo,'DejaVu Sans Mono',consolas,'Courier New',monospace\"><span style=\"font-weight: bold\"> Total params: </span><span style=\"color: #00af00; text-decoration-color: #00af00\">500,210</span> (1.91 MB)\n",
       "</pre>\n"
      ],
      "text/plain": [
       "\u001b[1m Total params: \u001b[0m\u001b[38;5;34m500,210\u001b[0m (1.91 MB)\n"
      ]
     },
     "metadata": {},
     "output_type": "display_data"
    },
    {
     "data": {
      "text/html": [
       "<pre style=\"white-space:pre;overflow-x:auto;line-height:normal;font-family:Menlo,'DejaVu Sans Mono',consolas,'Courier New',monospace\"><span style=\"font-weight: bold\"> Trainable params: </span><span style=\"color: #00af00; text-decoration-color: #00af00\">500,210</span> (1.91 MB)\n",
       "</pre>\n"
      ],
      "text/plain": [
       "\u001b[1m Trainable params: \u001b[0m\u001b[38;5;34m500,210\u001b[0m (1.91 MB)\n"
      ]
     },
     "metadata": {},
     "output_type": "display_data"
    },
    {
     "data": {
      "text/html": [
       "<pre style=\"white-space:pre;overflow-x:auto;line-height:normal;font-family:Menlo,'DejaVu Sans Mono',consolas,'Courier New',monospace\"><span style=\"font-weight: bold\"> Non-trainable params: </span><span style=\"color: #00af00; text-decoration-color: #00af00\">0</span> (0.00 B)\n",
       "</pre>\n"
      ],
      "text/plain": [
       "\u001b[1m Non-trainable params: \u001b[0m\u001b[38;5;34m0\u001b[0m (0.00 B)\n"
      ]
     },
     "metadata": {},
     "output_type": "display_data"
    }
   ],
   "source": [
    "model.summary()"
   ]
  },
  {
   "cell_type": "code",
   "execution_count": 5,
   "metadata": {},
   "outputs": [],
   "source": [
    "from tensorflow.keras.datasets import cifar10\n",
    "(x_train,y_train),(x_test,y_test) = cifar10.load_data()"
   ]
  },
  {
   "cell_type": "code",
   "execution_count": 6,
   "metadata": {},
   "outputs": [],
   "source": [
    "x_train = x_train.astype('float32') / 255.0\n",
    "x_test = x_test.astype('float32') / 255.0\n"
   ]
  },
  {
   "cell_type": "code",
   "execution_count": 7,
   "metadata": {},
   "outputs": [],
   "source": [
    "from tensorflow.keras.callbacks import EarlyStopping\n",
    "early_stop = EarlyStopping(\n",
    "    monitor='val_loss',\n",
    "    patience = 5,\n",
    "    restore_best_weights = True\n",
    ")"
   ]
  },
  {
   "cell_type": "code",
   "execution_count": 8,
   "metadata": {},
   "outputs": [
    {
     "name": "stdout",
     "output_type": "stream",
     "text": [
      "Epoch 1/50\n",
      "\u001b[1m625/625\u001b[0m \u001b[32m━━━━━━━━━━━━━━━━━━━━\u001b[0m\u001b[37m\u001b[0m \u001b[1m5s\u001b[0m 5ms/step - loss: 2.3338 - sparse_categorical_accuracy: 0.1477 - val_loss: 2.0017 - val_sparse_categorical_accuracy: 0.2161\n",
      "Epoch 2/50\n",
      "\u001b[1m625/625\u001b[0m \u001b[32m━━━━━━━━━━━━━━━━━━━━\u001b[0m\u001b[37m\u001b[0m \u001b[1m3s\u001b[0m 5ms/step - loss: 1.9834 - sparse_categorical_accuracy: 0.2494 - val_loss: 1.8951 - val_sparse_categorical_accuracy: 0.2951\n",
      "Epoch 3/50\n",
      "\u001b[1m625/625\u001b[0m \u001b[32m━━━━━━━━━━━━━━━━━━━━\u001b[0m\u001b[37m\u001b[0m \u001b[1m3s\u001b[0m 5ms/step - loss: 1.8913 - sparse_categorical_accuracy: 0.2964 - val_loss: 1.9069 - val_sparse_categorical_accuracy: 0.2917\n",
      "Epoch 4/50\n",
      "\u001b[1m625/625\u001b[0m \u001b[32m━━━━━━━━━━━━━━━━━━━━\u001b[0m\u001b[37m\u001b[0m \u001b[1m3s\u001b[0m 5ms/step - loss: 1.8323 - sparse_categorical_accuracy: 0.3277 - val_loss: 1.8342 - val_sparse_categorical_accuracy: 0.3252\n",
      "Epoch 5/50\n",
      "\u001b[1m625/625\u001b[0m \u001b[32m━━━━━━━━━━━━━━━━━━━━\u001b[0m\u001b[37m\u001b[0m \u001b[1m3s\u001b[0m 5ms/step - loss: 1.7894 - sparse_categorical_accuracy: 0.3482 - val_loss: 1.8205 - val_sparse_categorical_accuracy: 0.3565\n",
      "Epoch 6/50\n",
      "\u001b[1m625/625\u001b[0m \u001b[32m━━━━━━━━━━━━━━━━━━━━\u001b[0m\u001b[37m\u001b[0m \u001b[1m3s\u001b[0m 5ms/step - loss: 1.7663 - sparse_categorical_accuracy: 0.3592 - val_loss: 1.7658 - val_sparse_categorical_accuracy: 0.3699\n",
      "Epoch 7/50\n",
      "\u001b[1m625/625\u001b[0m \u001b[32m━━━━━━━━━━━━━━━━━━━━\u001b[0m\u001b[37m\u001b[0m \u001b[1m3s\u001b[0m 5ms/step - loss: 1.7215 - sparse_categorical_accuracy: 0.3809 - val_loss: 1.7191 - val_sparse_categorical_accuracy: 0.3841\n",
      "Epoch 8/50\n",
      "\u001b[1m625/625\u001b[0m \u001b[32m━━━━━━━━━━━━━━━━━━━━\u001b[0m\u001b[37m\u001b[0m \u001b[1m3s\u001b[0m 5ms/step - loss: 1.6764 - sparse_categorical_accuracy: 0.3935 - val_loss: 1.7245 - val_sparse_categorical_accuracy: 0.3889\n",
      "Epoch 9/50\n",
      "\u001b[1m625/625\u001b[0m \u001b[32m━━━━━━━━━━━━━━━━━━━━\u001b[0m\u001b[37m\u001b[0m \u001b[1m3s\u001b[0m 5ms/step - loss: 1.6548 - sparse_categorical_accuracy: 0.4122 - val_loss: 1.7307 - val_sparse_categorical_accuracy: 0.3746\n",
      "Epoch 10/50\n",
      "\u001b[1m625/625\u001b[0m \u001b[32m━━━━━━━━━━━━━━━━━━━━\u001b[0m\u001b[37m\u001b[0m \u001b[1m3s\u001b[0m 5ms/step - loss: 1.6532 - sparse_categorical_accuracy: 0.4087 - val_loss: 1.6795 - val_sparse_categorical_accuracy: 0.4059\n",
      "Epoch 11/50\n",
      "\u001b[1m625/625\u001b[0m \u001b[32m━━━━━━━━━━━━━━━━━━━━\u001b[0m\u001b[37m\u001b[0m \u001b[1m3s\u001b[0m 5ms/step - loss: 1.6298 - sparse_categorical_accuracy: 0.4251 - val_loss: 1.6264 - val_sparse_categorical_accuracy: 0.4238\n",
      "Epoch 12/50\n",
      "\u001b[1m625/625\u001b[0m \u001b[32m━━━━━━━━━━━━━━━━━━━━\u001b[0m\u001b[37m\u001b[0m \u001b[1m3s\u001b[0m 5ms/step - loss: 1.5982 - sparse_categorical_accuracy: 0.4298 - val_loss: 1.6233 - val_sparse_categorical_accuracy: 0.4333\n",
      "Epoch 13/50\n",
      "\u001b[1m625/625\u001b[0m \u001b[32m━━━━━━━━━━━━━━━━━━━━\u001b[0m\u001b[37m\u001b[0m \u001b[1m3s\u001b[0m 5ms/step - loss: 1.5812 - sparse_categorical_accuracy: 0.4393 - val_loss: 1.6313 - val_sparse_categorical_accuracy: 0.4182\n",
      "Epoch 14/50\n",
      "\u001b[1m625/625\u001b[0m \u001b[32m━━━━━━━━━━━━━━━━━━━━\u001b[0m\u001b[37m\u001b[0m \u001b[1m3s\u001b[0m 5ms/step - loss: 1.5722 - sparse_categorical_accuracy: 0.4372 - val_loss: 1.6685 - val_sparse_categorical_accuracy: 0.4197\n",
      "Epoch 15/50\n",
      "\u001b[1m625/625\u001b[0m \u001b[32m━━━━━━━━━━━━━━━━━━━━\u001b[0m\u001b[37m\u001b[0m \u001b[1m3s\u001b[0m 5ms/step - loss: 1.5506 - sparse_categorical_accuracy: 0.4470 - val_loss: 1.5992 - val_sparse_categorical_accuracy: 0.4435\n",
      "Epoch 16/50\n",
      "\u001b[1m625/625\u001b[0m \u001b[32m━━━━━━━━━━━━━━━━━━━━\u001b[0m\u001b[37m\u001b[0m \u001b[1m3s\u001b[0m 5ms/step - loss: 1.5456 - sparse_categorical_accuracy: 0.4554 - val_loss: 1.5812 - val_sparse_categorical_accuracy: 0.4384\n",
      "Epoch 17/50\n",
      "\u001b[1m625/625\u001b[0m \u001b[32m━━━━━━━━━━━━━━━━━━━━\u001b[0m\u001b[37m\u001b[0m \u001b[1m3s\u001b[0m 5ms/step - loss: 1.5384 - sparse_categorical_accuracy: 0.4518 - val_loss: 1.6349 - val_sparse_categorical_accuracy: 0.4392\n",
      "Epoch 18/50\n",
      "\u001b[1m625/625\u001b[0m \u001b[32m━━━━━━━━━━━━━━━━━━━━\u001b[0m\u001b[37m\u001b[0m \u001b[1m3s\u001b[0m 5ms/step - loss: 1.5086 - sparse_categorical_accuracy: 0.4643 - val_loss: 1.6062 - val_sparse_categorical_accuracy: 0.4267\n",
      "Epoch 19/50\n",
      "\u001b[1m625/625\u001b[0m \u001b[32m━━━━━━━━━━━━━━━━━━━━\u001b[0m\u001b[37m\u001b[0m \u001b[1m3s\u001b[0m 5ms/step - loss: 1.4874 - sparse_categorical_accuracy: 0.4718 - val_loss: 1.5873 - val_sparse_categorical_accuracy: 0.4348\n",
      "Epoch 20/50\n",
      "\u001b[1m625/625\u001b[0m \u001b[32m━━━━━━━━━━━━━━━━━━━━\u001b[0m\u001b[37m\u001b[0m \u001b[1m3s\u001b[0m 5ms/step - loss: 1.4912 - sparse_categorical_accuracy: 0.4671 - val_loss: 1.5807 - val_sparse_categorical_accuracy: 0.4315\n",
      "Epoch 21/50\n",
      "\u001b[1m625/625\u001b[0m \u001b[32m━━━━━━━━━━━━━━━━━━━━\u001b[0m\u001b[37m\u001b[0m \u001b[1m3s\u001b[0m 5ms/step - loss: 1.9643 - sparse_categorical_accuracy: 0.2977 - val_loss: 1.9936 - val_sparse_categorical_accuracy: 0.2642\n",
      "Epoch 22/50\n",
      "\u001b[1m625/625\u001b[0m \u001b[32m━━━━━━━━━━━━━━━━━━━━\u001b[0m\u001b[37m\u001b[0m \u001b[1m3s\u001b[0m 5ms/step - loss: 1.8980 - sparse_categorical_accuracy: 0.2857 - val_loss: 1.8234 - val_sparse_categorical_accuracy: 0.3231\n",
      "Epoch 23/50\n",
      "\u001b[1m625/625\u001b[0m \u001b[32m━━━━━━━━━━━━━━━━━━━━\u001b[0m\u001b[37m\u001b[0m \u001b[1m3s\u001b[0m 5ms/step - loss: 1.8117 - sparse_categorical_accuracy: 0.3194 - val_loss: 1.7669 - val_sparse_categorical_accuracy: 0.3494\n",
      "Epoch 24/50\n",
      "\u001b[1m625/625\u001b[0m \u001b[32m━━━━━━━━━━━━━━━━━━━━\u001b[0m\u001b[37m\u001b[0m \u001b[1m3s\u001b[0m 5ms/step - loss: 1.7629 - sparse_categorical_accuracy: 0.3445 - val_loss: 1.7696 - val_sparse_categorical_accuracy: 0.3439\n",
      "Epoch 25/50\n",
      "\u001b[1m625/625\u001b[0m \u001b[32m━━━━━━━━━━━━━━━━━━━━\u001b[0m\u001b[37m\u001b[0m \u001b[1m3s\u001b[0m 5ms/step - loss: 1.8720 - sparse_categorical_accuracy: 0.2928 - val_loss: 1.8058 - val_sparse_categorical_accuracy: 0.3254\n"
     ]
    }
   ],
   "source": [
    "history = model.fit(\n",
    "    x_train,y_train,\n",
    "    epochs=50,\n",
    "    validation_split=0.2,\n",
    "    callbacks=[early_stop],\n",
    "    batch_size =64\n",
    ")"
   ]
  },
  {
   "cell_type": "code",
   "execution_count": null,
   "metadata": {},
   "outputs": [],
   "source": []
  },
  {
   "cell_type": "code",
   "execution_count": null,
   "metadata": {},
   "outputs": [],
   "source": []
  }
 ],
 "metadata": {
  "kernelspec": {
   "display_name": "Python 3",
   "language": "python",
   "name": "python3"
  },
  "language_info": {
   "codemirror_mode": {
    "name": "ipython",
    "version": 3
   },
   "file_extension": ".py",
   "mimetype": "text/x-python",
   "name": "python",
   "nbconvert_exporter": "python",
   "pygments_lexer": "ipython3",
   "version": "3.11.9"
  }
 },
 "nbformat": 4,
 "nbformat_minor": 2
}
